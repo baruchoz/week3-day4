{
 "cells": [
  {
   "cell_type": "markdown",
   "id": "52f25d90",
   "metadata": {},
   "source": [
    "Consecutive Indices\n",
    "You are given a list of unique integers (arr), and two integers (a and b). Your task is to find out whether or not a and b appear consecutively in arr, and return a boolean value (True if a and b are consecutive, False otherwise).\n",
    "It is guaranteed that a and b are both present in arr.\n",
    "Example:\n",
    "Input: ([1, 6, 9, -3, 4, -78, 0], -3, 4)\n",
    "Output: True\n",
    "Input: ([3,1,0,19], 19, 0)\t\n",
    "Output: True"
   ]
  },
  {
   "cell_type": "code",
   "execution_count": 4,
   "id": "9ce4421d",
   "metadata": {},
   "outputs": [
    {
     "data": {
      "text/plain": [
       "False"
      ]
     },
     "execution_count": 4,
     "metadata": {},
     "output_type": "execute_result"
    }
   ],
   "source": [
    "def consec(lst, x, y):\n",
    "    for i in range(len(lst)):\n",
    "        if lst[i] == x:\n",
    "            var1 = i\n",
    "        if lst[i] == y:\n",
    "            var2 = i\n",
    "    if var1 == var2-1 or var1 == var2+1:\n",
    "        return True\n",
    "    else:\n",
    "        return False\n",
    "\n",
    "consec([1, 6, 9, -3, 4, -78, 0], -3, 1)"
   ]
  },
  {
   "cell_type": "code",
   "execution_count": 1,
   "id": "8f038227",
   "metadata": {},
   "outputs": [
    {
     "name": "stdout",
     "output_type": "stream",
     "text": [
      "True\n",
      "False\n",
      "True\n"
     ]
    }
   ],
   "source": [
    "def my_thing(ls, num1, num2):\n",
    "    num_1_pos = ls.index(num1)\n",
    "    num_2_pos = ls.index(num2)\n",
    "    if num_1_pos + 1 == num_2_pos or num_1_pos - 1 == num_2_pos:\n",
    "        return True\n",
    "    else: \n",
    "        return False    \n",
    "print(my_thing([1, 6, 9, -3, 4, -78, 0], -3, 4))\n",
    "print(my_thing([1, 6, 9, -3, 4, -78, 0], -3, 0))\n",
    "print(my_thing([3,1,0,19], 19, 0))"
   ]
  },
  {
   "cell_type": "code",
   "execution_count": 6,
   "id": "0d9b2d6a",
   "metadata": {},
   "outputs": [
    {
     "data": {
      "text/plain": [
       "False"
      ]
     },
     "execution_count": 6,
     "metadata": {},
     "output_type": "execute_result"
    }
   ],
   "source": [
    "def consecutive(lst, a, b):\n",
    "    for i in range(len(lst)-1):\n",
    "        if lst[i] == a:\n",
    "            return lst[i+1] == b\n",
    "        elif lst[i] == b:\n",
    "            return lst[i+1] == a\n",
    "\n",
    "consec([1, 6, 9, -3, 4, -78, 0], -3, 1)"
   ]
  }
 ],
 "metadata": {
  "kernelspec": {
   "display_name": "Python 3",
   "language": "python",
   "name": "python3"
  },
  "language_info": {
   "codemirror_mode": {
    "name": "ipython",
    "version": 3
   },
   "file_extension": ".py",
   "mimetype": "text/x-python",
   "name": "python",
   "nbconvert_exporter": "python",
   "pygments_lexer": "ipython3",
   "version": "3.8.8"
  }
 },
 "nbformat": 4,
 "nbformat_minor": 5
}
